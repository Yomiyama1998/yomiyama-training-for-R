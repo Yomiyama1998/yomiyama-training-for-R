{
 "cells": [
  {
   "cell_type": "code",
   "execution_count": 1,
   "metadata": {},
   "outputs": [],
   "source": [
    "# 開始値:ステップ:終了値\n",
    "x = -5.0:0.1:5.0\n",
    "# 関数\n",
    "f(x) = 1 ./ (1 .+ exp.(-x))\n",
    "\n",
    "y = f(x)\n",
    "\n",
    "using Plots\n",
    "Plots.gr()\n",
    "plot(x, y)\n",
    "# 画像保存\n",
    "savefig(\"Sigmoid.png\")"
   ]
  },
  {
   "cell_type": "code",
   "execution_count": 2,
   "metadata": {},
   "outputs": [
    {
     "data": {
      "text/plain": [
       "euler (generic function with 1 method)"
      ]
     },
     "execution_count": 2,
     "metadata": {},
     "output_type": "execute_result"
    }
   ],
   "source": [
    "C1 = C2 = D1 = D2 = 1.0 # こういう記法が許されるのが、Julia の地味にいいところ．\n",
    "u0 = v0 = 0.7\n",
    "Δt = 0.05\n",
    " \n",
    "function euler(u,v)\n",
    "    u_new = (1 + Δt*D1 - Δt*C1*v) * u\n",
    "    v_new = (1 - Δt*D2 + Δt*C2*u) * v\n",
    "    u,v = u_new, v_new\n",
    "    return u, v\n",
    "end"
   ]
  },
  {
   "cell_type": "code",
   "execution_count": 3,
   "metadata": {},
   "outputs": [
    {
     "data": {
      "text/plain": [
       "(0.7105, 0.6895)"
      ]
     },
     "execution_count": 3,
     "metadata": {},
     "output_type": "execute_result"
    }
   ],
   "source": [
    "euler(u0,v0)"
   ]
  },
  {
   "cell_type": "code",
   "execution_count": 11,
   "metadata": {},
   "outputs": [
    {
     "data": {
      "text/plain": [
       "jizoku (generic function with 1 method)"
      ]
     },
     "execution_count": 11,
     "metadata": {},
     "output_type": "execute_result"
    }
   ],
   "source": [
    "function jizoku(t)\n",
    "    C_new=(X/Vd)*(1/(1-exp(-k*tau)))*exp(-k*t)\n",
    "    C=C_new\n",
    "    return C\n",
    "end"
   ]
  },
  {
   "cell_type": "code",
   "execution_count": 15,
   "metadata": {},
   "outputs": [],
   "source": [
    "t=0\n",
    "tau=6\n",
    "k=0.01\n",
    "Vd=10\n",
    "X=100\n",
    "C0=x/Vd\n",
    "C_sq=[C0]\n",
    "jizoku(t)\n",
    "for i in 1 : 500\n",
    "    C =jizoku(t)\n",
    "    C_sq=hcat(C_sq,[C])\n",
    "end"
   ]
  },
  {
   "cell_type": "code",
   "execution_count": 16,
   "metadata": {},
   "outputs": [
    {
     "data": {
      "text/plain": [
       "1×501 Array{Any,2}:\n",
       " -0.5:0.01:0.5  171.717  171.717  …  171.717  171.717  171.717  171.717"
      ]
     },
     "execution_count": 16,
     "metadata": {},
     "output_type": "execute_result"
    }
   ],
   "source": [
    "C_sq"
   ]
  },
  {
   "cell_type": "code",
   "execution_count": null,
   "metadata": {},
   "outputs": [],
   "source": []
  }
 ],
 "metadata": {
  "kernelspec": {
   "display_name": "Julia 1.1.0",
   "language": "julia",
   "name": "julia-1.1"
  },
  "language_info": {
   "file_extension": ".jl",
   "mimetype": "application/julia",
   "name": "julia",
   "version": "1.1.0"
  }
 },
 "nbformat": 4,
 "nbformat_minor": 2
}
