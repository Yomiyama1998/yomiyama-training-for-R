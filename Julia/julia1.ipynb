{
 "cells": [
  {
   "cell_type": "code",
   "execution_count": 6,
   "metadata": {
    "scrolled": true
   },
   "outputs": [
    {
     "name": "stdout",
     "output_type": "stream",
     "text": [
      "[0.4 0.44 0.52 0.45 0.44 0.39 0.34 0.35 0.38 0.45 0.46 0.49 0.51 0.46 0.5 0.46 0.4 0.48 0.44 0.43 0.38 0.36 0.27 0.24 0.24 0.26 0.22 0.23 0.21 0.19 0.1 0.12 0.11 0.06 0.05 0.03 0.04 0.01 0.01 0.03 0.0 0.0 0.0 0.0 0.0 0.0 0.0 0.0 0.0 0.0 0.0 0.0 0.0 0.0 0.0 0.0 0.0 0.0 0.0 0.0 0.0 0.0 0.0 0.0 0.0 0.0 0.0 0.0 0.0 0.0 0.0 0.0 0.0 0.0 0.0 0.0 0.0 0.0 0.0 0.0 0.0 0.0 0.0 0.0 0.0 0.0 0.0 0.0 0.0 0.0 0.0 0.0 0.0 0.0 0.0 0.0 0.0 0.0 0.0 0.0 0.0]"
     ]
    }
   ],
   "source": [
    "using Distributions\n",
    "using Plots\n",
    "derived=40\n",
    "size=100\n",
    "p=derived/size\n",
    "n=[p]\n",
    "sim=100\n",
    "for i in 1:sim\n",
    "  m=Binomial(size,p)\n",
    "  derived=rand(m)\n",
    "  p=derived/size\n",
    "  n=hcat( n,  [p] )\n",
    "end\n",
    "print(n)"
   ]
  },
  {
   "cell_type": "code",
   "execution_count": 4,
   "metadata": {},
   "outputs": [
    {
     "ename": "ErrorException",
     "evalue": "type Array has no field append",
     "output_type": "error",
     "traceback": [
      "type Array has no field append",
      "",
      "Stacktrace:",
      " [1] getproperty(::Any, ::Symbol) at ./sysimg.jl:18",
      " [2] top-level scope at In[4]:1"
     ]
    }
   ],
   "source": [
    "tr.append()"
   ]
  },
  {
   "cell_type": "code",
   "execution_count": 13,
   "metadata": {},
   "outputs": [
    {
     "name": "stdout",
     "output_type": "stream",
     "text": [
      "Any[[0.4 0.4 0.37 0.3 0.35 0.38], [0.4 0.4 0.37 0.3 0.35 0.38 0.34 0.43 0.46 0.47 0.41]]"
     ]
    },
    {
     "data": {
      "image/svg+xml": [
       "<?xml version=\"1.0\" encoding=\"utf-8\"?>\n",
       "<svg xmlns=\"http://www.w3.org/2000/svg\" xmlns:xlink=\"http://www.w3.org/1999/xlink\" width=\"600\" height=\"400\" viewBox=\"0 0 2400 1600\">\n",
       "<defs>\n",
       "  <clipPath id=\"clip4100\">\n",
       "    <rect x=\"0\" y=\"0\" width=\"2000\" height=\"2000\"/>\n",
       "  </clipPath>\n",
       "</defs>\n",
       "<defs>\n",
       "  <clipPath id=\"clip4101\">\n",
       "    <rect x=\"0\" y=\"0\" width=\"2400\" height=\"1600\"/>\n",
       "  </clipPath>\n",
       "</defs>\n",
       "<polygon clip-path=\"url(#clip4101)\" points=\"\n",
       "0,1600 2400,1600 2400,0 0,0 \n",
       "  \" fill=\"#ffffff\" fill-rule=\"evenodd\" fill-opacity=\"1\"/>\n",
       "<defs>\n",
       "  <clipPath id=\"clip4102\">\n",
       "    <rect x=\"480\" y=\"0\" width=\"1681\" height=\"1600\"/>\n",
       "  </clipPath>\n",
       "</defs>\n",
       "<polygon clip-path=\"url(#clip4101)\" points=\"\n",
       "188.156,1503.47 2321.26,1503.47 2321.26,47.2441 188.156,47.2441 \n",
       "  \" fill=\"#ffffff\" fill-rule=\"evenodd\" fill-opacity=\"1\"/>\n",
       "<defs>\n",
       "  <clipPath id=\"clip4103\">\n",
       "    <rect x=\"188\" y=\"47\" width=\"2134\" height=\"1457\"/>\n",
       "  </clipPath>\n",
       "</defs>\n",
       "<polyline clip-path=\"url(#clip4103)\" style=\"stroke:#000000; stroke-width:2; stroke-opacity:0.1; fill:none\" points=\"\n",
       "  248.527,1503.47 248.527,47.2441 \n",
       "  \"/>\n",
       "<polyline clip-path=\"url(#clip4103)\" style=\"stroke:#000000; stroke-width:2; stroke-opacity:0.1; fill:none\" points=\"\n",
       "  751.618,1503.47 751.618,47.2441 \n",
       "  \"/>\n",
       "<polyline clip-path=\"url(#clip4103)\" style=\"stroke:#000000; stroke-width:2; stroke-opacity:0.1; fill:none\" points=\"\n",
       "  1254.71,1503.47 1254.71,47.2441 \n",
       "  \"/>\n",
       "<polyline clip-path=\"url(#clip4103)\" style=\"stroke:#000000; stroke-width:2; stroke-opacity:0.1; fill:none\" points=\"\n",
       "  1757.8,1503.47 1757.8,47.2441 \n",
       "  \"/>\n",
       "<polyline clip-path=\"url(#clip4103)\" style=\"stroke:#000000; stroke-width:2; stroke-opacity:0.1; fill:none\" points=\"\n",
       "  2260.89,1503.47 2260.89,47.2441 \n",
       "  \"/>\n",
       "<polyline clip-path=\"url(#clip4103)\" style=\"stroke:#000000; stroke-width:2; stroke-opacity:0.1; fill:none\" points=\"\n",
       "  188.156,1462.26 2321.26,1462.26 \n",
       "  \"/>\n",
       "<polyline clip-path=\"url(#clip4103)\" style=\"stroke:#000000; stroke-width:2; stroke-opacity:0.1; fill:none\" points=\"\n",
       "  188.156,1058.2 2321.26,1058.2 \n",
       "  \"/>\n",
       "<polyline clip-path=\"url(#clip4103)\" style=\"stroke:#000000; stroke-width:2; stroke-opacity:0.1; fill:none\" points=\"\n",
       "  188.156,654.142 2321.26,654.142 \n",
       "  \"/>\n",
       "<polyline clip-path=\"url(#clip4103)\" style=\"stroke:#000000; stroke-width:2; stroke-opacity:0.1; fill:none\" points=\"\n",
       "  188.156,250.082 2321.26,250.082 \n",
       "  \"/>\n",
       "<polyline clip-path=\"url(#clip4101)\" style=\"stroke:#000000; stroke-width:4; stroke-opacity:1; fill:none\" points=\"\n",
       "  188.156,1503.47 2321.26,1503.47 \n",
       "  \"/>\n",
       "<polyline clip-path=\"url(#clip4101)\" style=\"stroke:#000000; stroke-width:4; stroke-opacity:1; fill:none\" points=\"\n",
       "  188.156,1503.47 188.156,47.2441 \n",
       "  \"/>\n",
       "<polyline clip-path=\"url(#clip4101)\" style=\"stroke:#000000; stroke-width:4; stroke-opacity:1; fill:none\" points=\"\n",
       "  248.527,1503.47 248.527,1481.63 \n",
       "  \"/>\n",
       "<polyline clip-path=\"url(#clip4101)\" style=\"stroke:#000000; stroke-width:4; stroke-opacity:1; fill:none\" points=\"\n",
       "  751.618,1503.47 751.618,1481.63 \n",
       "  \"/>\n",
       "<polyline clip-path=\"url(#clip4101)\" style=\"stroke:#000000; stroke-width:4; stroke-opacity:1; fill:none\" points=\"\n",
       "  1254.71,1503.47 1254.71,1481.63 \n",
       "  \"/>\n",
       "<polyline clip-path=\"url(#clip4101)\" style=\"stroke:#000000; stroke-width:4; stroke-opacity:1; fill:none\" points=\"\n",
       "  1757.8,1503.47 1757.8,1481.63 \n",
       "  \"/>\n",
       "<polyline clip-path=\"url(#clip4101)\" style=\"stroke:#000000; stroke-width:4; stroke-opacity:1; fill:none\" points=\"\n",
       "  2260.89,1503.47 2260.89,1481.63 \n",
       "  \"/>\n",
       "<polyline clip-path=\"url(#clip4101)\" style=\"stroke:#000000; stroke-width:4; stroke-opacity:1; fill:none\" points=\"\n",
       "  188.156,1462.26 220.153,1462.26 \n",
       "  \"/>\n",
       "<polyline clip-path=\"url(#clip4101)\" style=\"stroke:#000000; stroke-width:4; stroke-opacity:1; fill:none\" points=\"\n",
       "  188.156,1058.2 220.153,1058.2 \n",
       "  \"/>\n",
       "<polyline clip-path=\"url(#clip4101)\" style=\"stroke:#000000; stroke-width:4; stroke-opacity:1; fill:none\" points=\"\n",
       "  188.156,654.142 220.153,654.142 \n",
       "  \"/>\n",
       "<polyline clip-path=\"url(#clip4101)\" style=\"stroke:#000000; stroke-width:4; stroke-opacity:1; fill:none\" points=\"\n",
       "  188.156,250.082 220.153,250.082 \n",
       "  \"/>\n",
       "<g clip-path=\"url(#clip4101)\">\n",
       "<text style=\"fill:#000000; fill-opacity:1; font-family:Arial,Helvetica Neue,Helvetica,sans-serif; font-size:48px; text-anchor:middle;\" transform=\"rotate(0, 248.527, 1557.47)\" x=\"248.527\" y=\"1557.47\">0.00</text>\n",
       "</g>\n",
       "<g clip-path=\"url(#clip4101)\">\n",
       "<text style=\"fill:#000000; fill-opacity:1; font-family:Arial,Helvetica Neue,Helvetica,sans-serif; font-size:48px; text-anchor:middle;\" transform=\"rotate(0, 751.618, 1557.47)\" x=\"751.618\" y=\"1557.47\">0.25</text>\n",
       "</g>\n",
       "<g clip-path=\"url(#clip4101)\">\n",
       "<text style=\"fill:#000000; fill-opacity:1; font-family:Arial,Helvetica Neue,Helvetica,sans-serif; font-size:48px; text-anchor:middle;\" transform=\"rotate(0, 1254.71, 1557.47)\" x=\"1254.71\" y=\"1557.47\">0.50</text>\n",
       "</g>\n",
       "<g clip-path=\"url(#clip4101)\">\n",
       "<text style=\"fill:#000000; fill-opacity:1; font-family:Arial,Helvetica Neue,Helvetica,sans-serif; font-size:48px; text-anchor:middle;\" transform=\"rotate(0, 1757.8, 1557.47)\" x=\"1757.8\" y=\"1557.47\">0.75</text>\n",
       "</g>\n",
       "<g clip-path=\"url(#clip4101)\">\n",
       "<text style=\"fill:#000000; fill-opacity:1; font-family:Arial,Helvetica Neue,Helvetica,sans-serif; font-size:48px; text-anchor:middle;\" transform=\"rotate(0, 2260.89, 1557.47)\" x=\"2260.89\" y=\"1557.47\">1.00</text>\n",
       "</g>\n",
       "<g clip-path=\"url(#clip4101)\">\n",
       "<text style=\"fill:#000000; fill-opacity:1; font-family:Arial,Helvetica Neue,Helvetica,sans-serif; font-size:48px; text-anchor:end;\" transform=\"rotate(0, 164.156, 1479.76)\" x=\"164.156\" y=\"1479.76\">0.30</text>\n",
       "</g>\n",
       "<g clip-path=\"url(#clip4101)\">\n",
       "<text style=\"fill:#000000; fill-opacity:1; font-family:Arial,Helvetica Neue,Helvetica,sans-serif; font-size:48px; text-anchor:end;\" transform=\"rotate(0, 164.156, 1075.7)\" x=\"164.156\" y=\"1075.7\">0.35</text>\n",
       "</g>\n",
       "<g clip-path=\"url(#clip4101)\">\n",
       "<text style=\"fill:#000000; fill-opacity:1; font-family:Arial,Helvetica Neue,Helvetica,sans-serif; font-size:48px; text-anchor:end;\" transform=\"rotate(0, 164.156, 671.642)\" x=\"164.156\" y=\"671.642\">0.40</text>\n",
       "</g>\n",
       "<g clip-path=\"url(#clip4101)\">\n",
       "<text style=\"fill:#000000; fill-opacity:1; font-family:Arial,Helvetica Neue,Helvetica,sans-serif; font-size:48px; text-anchor:end;\" transform=\"rotate(0, 164.156, 267.582)\" x=\"164.156\" y=\"267.582\">0.45</text>\n",
       "</g>\n",
       "<polygon clip-path=\"url(#clip4101)\" points=\"\n",
       "1931.67,1219.4 2249.26,1219.4 2249.26,130.764 1931.67,130.764 \n",
       "  \" fill=\"#ffffff\" fill-rule=\"evenodd\" fill-opacity=\"1\"/>\n",
       "<polyline clip-path=\"url(#clip4101)\" style=\"stroke:#000000; stroke-width:4; stroke-opacity:1; fill:none\" points=\"\n",
       "  1931.67,1219.4 2249.26,1219.4 2249.26,130.764 1931.67,130.764 1931.67,1219.4 \n",
       "  \"/>\n",
       "<polyline clip-path=\"url(#clip4101)\" style=\"stroke:#009af9; stroke-width:4; stroke-opacity:1; fill:none\" points=\"\n",
       "  1955.67,191.244 2099.67,191.244 \n",
       "  \"/>\n",
       "<g clip-path=\"url(#clip4101)\">\n",
       "<text style=\"fill:#000000; fill-opacity:1; font-family:Arial,Helvetica Neue,Helvetica,sans-serif; font-size:48px; text-anchor:start;\" transform=\"rotate(0, 2123.67, 208.744)\" x=\"2123.67\" y=\"208.744\">y1</text>\n",
       "</g>\n",
       "<polyline clip-path=\"url(#clip4101)\" style=\"stroke:#e26f46; stroke-width:4; stroke-opacity:1; fill:none\" points=\"\n",
       "  1955.67,251.724 2099.67,251.724 \n",
       "  \"/>\n",
       "<g clip-path=\"url(#clip4101)\">\n",
       "<text style=\"fill:#000000; fill-opacity:1; font-family:Arial,Helvetica Neue,Helvetica,sans-serif; font-size:48px; text-anchor:start;\" transform=\"rotate(0, 2123.67, 269.224)\" x=\"2123.67\" y=\"269.224\">y2</text>\n",
       "</g>\n",
       "<polyline clip-path=\"url(#clip4101)\" style=\"stroke:#3da44d; stroke-width:4; stroke-opacity:1; fill:none\" points=\"\n",
       "  1955.67,312.204 2099.67,312.204 \n",
       "  \"/>\n",
       "<g clip-path=\"url(#clip4101)\">\n",
       "<text style=\"fill:#000000; fill-opacity:1; font-family:Arial,Helvetica Neue,Helvetica,sans-serif; font-size:48px; text-anchor:start;\" transform=\"rotate(0, 2123.67, 329.704)\" x=\"2123.67\" y=\"329.704\">y3</text>\n",
       "</g>\n",
       "<polyline clip-path=\"url(#clip4101)\" style=\"stroke:#c271d2; stroke-width:4; stroke-opacity:1; fill:none\" points=\"\n",
       "  1955.67,372.684 2099.67,372.684 \n",
       "  \"/>\n",
       "<g clip-path=\"url(#clip4101)\">\n",
       "<text style=\"fill:#000000; fill-opacity:1; font-family:Arial,Helvetica Neue,Helvetica,sans-serif; font-size:48px; text-anchor:start;\" transform=\"rotate(0, 2123.67, 390.184)\" x=\"2123.67\" y=\"390.184\">y4</text>\n",
       "</g>\n",
       "<polyline clip-path=\"url(#clip4101)\" style=\"stroke:#ac8d18; stroke-width:4; stroke-opacity:1; fill:none\" points=\"\n",
       "  1955.67,433.164 2099.67,433.164 \n",
       "  \"/>\n",
       "<g clip-path=\"url(#clip4101)\">\n",
       "<text style=\"fill:#000000; fill-opacity:1; font-family:Arial,Helvetica Neue,Helvetica,sans-serif; font-size:48px; text-anchor:start;\" transform=\"rotate(0, 2123.67, 450.664)\" x=\"2123.67\" y=\"450.664\">y5</text>\n",
       "</g>\n",
       "<polyline clip-path=\"url(#clip4101)\" style=\"stroke:#00a9ad; stroke-width:4; stroke-opacity:1; fill:none\" points=\"\n",
       "  1955.67,493.644 2099.67,493.644 \n",
       "  \"/>\n",
       "<g clip-path=\"url(#clip4101)\">\n",
       "<text style=\"fill:#000000; fill-opacity:1; font-family:Arial,Helvetica Neue,Helvetica,sans-serif; font-size:48px; text-anchor:start;\" transform=\"rotate(0, 2123.67, 511.144)\" x=\"2123.67\" y=\"511.144\">y6</text>\n",
       "</g>\n",
       "<polyline clip-path=\"url(#clip4101)\" style=\"stroke:#ed5d92; stroke-width:4; stroke-opacity:1; fill:none\" points=\"\n",
       "  1955.67,554.124 2099.67,554.124 \n",
       "  \"/>\n",
       "<g clip-path=\"url(#clip4101)\">\n",
       "<text style=\"fill:#000000; fill-opacity:1; font-family:Arial,Helvetica Neue,Helvetica,sans-serif; font-size:48px; text-anchor:start;\" transform=\"rotate(0, 2123.67, 571.624)\" x=\"2123.67\" y=\"571.624\">y7</text>\n",
       "</g>\n",
       "<polyline clip-path=\"url(#clip4101)\" style=\"stroke:#c68125; stroke-width:4; stroke-opacity:1; fill:none\" points=\"\n",
       "  1955.67,614.604 2099.67,614.604 \n",
       "  \"/>\n",
       "<g clip-path=\"url(#clip4101)\">\n",
       "<text style=\"fill:#000000; fill-opacity:1; font-family:Arial,Helvetica Neue,Helvetica,sans-serif; font-size:48px; text-anchor:start;\" transform=\"rotate(0, 2123.67, 632.104)\" x=\"2123.67\" y=\"632.104\">y8</text>\n",
       "</g>\n",
       "<polyline clip-path=\"url(#clip4101)\" style=\"stroke:#00a98d; stroke-width:4; stroke-opacity:1; fill:none\" points=\"\n",
       "  1955.67,675.084 2099.67,675.084 \n",
       "  \"/>\n",
       "<g clip-path=\"url(#clip4101)\">\n",
       "<text style=\"fill:#000000; fill-opacity:1; font-family:Arial,Helvetica Neue,Helvetica,sans-serif; font-size:48px; text-anchor:start;\" transform=\"rotate(0, 2123.67, 692.584)\" x=\"2123.67\" y=\"692.584\">y9</text>\n",
       "</g>\n",
       "<polyline clip-path=\"url(#clip4101)\" style=\"stroke:#8e971d; stroke-width:4; stroke-opacity:1; fill:none\" points=\"\n",
       "  1955.67,735.564 2099.67,735.564 \n",
       "  \"/>\n",
       "<g clip-path=\"url(#clip4101)\">\n",
       "<text style=\"fill:#000000; fill-opacity:1; font-family:Arial,Helvetica Neue,Helvetica,sans-serif; font-size:48px; text-anchor:start;\" transform=\"rotate(0, 2123.67, 753.064)\" x=\"2123.67\" y=\"753.064\">y10</text>\n",
       "</g>\n",
       "<polyline clip-path=\"url(#clip4101)\" style=\"stroke:#00a8cb; stroke-width:4; stroke-opacity:1; fill:none\" points=\"\n",
       "  1955.67,796.044 2099.67,796.044 \n",
       "  \"/>\n",
       "<g clip-path=\"url(#clip4101)\">\n",
       "<text style=\"fill:#000000; fill-opacity:1; font-family:Arial,Helvetica Neue,Helvetica,sans-serif; font-size:48px; text-anchor:start;\" transform=\"rotate(0, 2123.67, 813.544)\" x=\"2123.67\" y=\"813.544\">y11</text>\n",
       "</g>\n",
       "<polyline clip-path=\"url(#clip4101)\" style=\"stroke:#9b7fe8; stroke-width:4; stroke-opacity:1; fill:none\" points=\"\n",
       "  1955.67,856.524 2099.67,856.524 \n",
       "  \"/>\n",
       "<g clip-path=\"url(#clip4101)\">\n",
       "<text style=\"fill:#000000; fill-opacity:1; font-family:Arial,Helvetica Neue,Helvetica,sans-serif; font-size:48px; text-anchor:start;\" transform=\"rotate(0, 2123.67, 874.024)\" x=\"2123.67\" y=\"874.024\">y12</text>\n",
       "</g>\n",
       "<polyline clip-path=\"url(#clip4101)\" style=\"stroke:#608cf6; stroke-width:4; stroke-opacity:1; fill:none\" points=\"\n",
       "  1955.67,917.004 2099.67,917.004 \n",
       "  \"/>\n",
       "<g clip-path=\"url(#clip4101)\">\n",
       "<text style=\"fill:#000000; fill-opacity:1; font-family:Arial,Helvetica Neue,Helvetica,sans-serif; font-size:48px; text-anchor:start;\" transform=\"rotate(0, 2123.67, 934.504)\" x=\"2123.67\" y=\"934.504\">y13</text>\n",
       "</g>\n",
       "<polyline clip-path=\"url(#clip4101)\" style=\"stroke:#f05f73; stroke-width:4; stroke-opacity:1; fill:none\" points=\"\n",
       "  1955.67,977.484 2099.67,977.484 \n",
       "  \"/>\n",
       "<g clip-path=\"url(#clip4101)\">\n",
       "<text style=\"fill:#000000; fill-opacity:1; font-family:Arial,Helvetica Neue,Helvetica,sans-serif; font-size:48px; text-anchor:start;\" transform=\"rotate(0, 2123.67, 994.984)\" x=\"2123.67\" y=\"994.984\">y14</text>\n",
       "</g>\n",
       "<polyline clip-path=\"url(#clip4101)\" style=\"stroke:#dd64b5; stroke-width:4; stroke-opacity:1; fill:none\" points=\"\n",
       "  1955.67,1037.96 2099.67,1037.96 \n",
       "  \"/>\n",
       "<g clip-path=\"url(#clip4101)\">\n",
       "<text style=\"fill:#000000; fill-opacity:1; font-family:Arial,Helvetica Neue,Helvetica,sans-serif; font-size:48px; text-anchor:start;\" transform=\"rotate(0, 2123.67, 1055.46)\" x=\"2123.67\" y=\"1055.46\">y15</text>\n",
       "</g>\n",
       "<polyline clip-path=\"url(#clip4101)\" style=\"stroke:#6b9e32; stroke-width:4; stroke-opacity:1; fill:none\" points=\"\n",
       "  1955.67,1098.44 2099.67,1098.44 \n",
       "  \"/>\n",
       "<g clip-path=\"url(#clip4101)\">\n",
       "<text style=\"fill:#000000; fill-opacity:1; font-family:Arial,Helvetica Neue,Helvetica,sans-serif; font-size:48px; text-anchor:start;\" transform=\"rotate(0, 2123.67, 1115.94)\" x=\"2123.67\" y=\"1115.94\">y16</text>\n",
       "</g>\n",
       "<polyline clip-path=\"url(#clip4101)\" style=\"stroke:#718c69; stroke-width:4; stroke-opacity:1; fill:none\" points=\"\n",
       "  1955.67,1158.92 2099.67,1158.92 \n",
       "  \"/>\n",
       "<g clip-path=\"url(#clip4101)\">\n",
       "<text style=\"fill:#000000; fill-opacity:1; font-family:Arial,Helvetica Neue,Helvetica,sans-serif; font-size:48px; text-anchor:start;\" transform=\"rotate(0, 2123.67, 1176.42)\" x=\"2123.67\" y=\"1176.42\">y17</text>\n",
       "</g>\n",
       "</svg>\n"
      ]
     },
     "execution_count": 13,
     "metadata": {},
     "output_type": "execute_result"
    }
   ],
   "source": [
    "derived=40\n",
    "size=100\n",
    "howmany=2\n",
    "end_sim=5\n",
    "sim=[]\n",
    "tr=[derived/size]\n",
    "p=derived/size\n",
    "for i in 1:howmany\n",
    "    for i in 1:end_sim\n",
    "  m=Binomial(size,p)\n",
    "  derived=rand(m)\n",
    "  p=derived/size\n",
    "  tr=hcat(tr,[p])\n",
    "    end\n",
    "        sim=vcat(sim,[tr])\n",
    "end\n",
    "print(sim)\n",
    "plot(end_sim,sim)"
   ]
  },
  {
   "cell_type": "code",
   "execution_count": 8,
   "metadata": {},
   "outputs": [
    {
     "data": {
      "text/plain": [
       "1×6 Array{Float64,2}:\n",
       " 0.4  0.34  0.34  0.38  0.33  0.33"
      ]
     },
     "execution_count": 8,
     "metadata": {},
     "output_type": "execute_result"
    }
   ],
   "source": [
    "function evol(derived,size,end_sim)\n",
    "    p=derived/size\n",
    "    tr=[p]\n",
    "  for i in 1:end_sim\n",
    "  m=Binomial(size,p)\n",
    "  derived=rand(m)\n",
    "  p=derived/size  \n",
    "  tr=hcat(tr,[p])\n",
    "        end          \n",
    "    return tr\n",
    "end\n",
    "evol(40,100,5)"
   ]
  },
  {
   "cell_type": "code",
   "execution_count": 131,
   "metadata": {},
   "outputs": [
    {
     "name": "stdout",
     "output_type": "stream",
     "text": [
      "Any[[0.4 0.39 0.34 0.35 0.42 0.33 0.31 0.3 0.33 0.31 0.32], [0.4 0.39 0.34 0.35 0.42 0.33 0.31 0.3 0.33 0.31 0.32], [0.4 0.39 0.34 0.35 0.42 0.33 0.31 0.3 0.33 0.31 0.32], [0.4 0.39 0.34 0.35 0.42 0.33 0.31 0.3 0.33 0.31 0.32], [0.4 0.39 0.34 0.35 0.42 0.33 0.31 0.3 0.33 0.31 0.32], [0.4 0.39 0.34 0.35 0.42 0.33 0.31 0.3 0.33 0.31 0.32], [0.4 0.39 0.34 0.35 0.42 0.33 0.31 0.3 0.33 0.31 0.32], [0.4 0.39 0.34 0.35 0.42 0.33 0.31 0.3 0.33 0.31 0.32], [0.4 0.39 0.34 0.35 0.42 0.33 0.31 0.3 0.33 0.31 0.32], [0.4 0.39 0.34 0.35 0.42 0.33 0.31 0.3 0.33 0.31 0.32]]"
     ]
    }
   ],
   "source": [
    "sim=[]\n",
    "for i in 1:10\n",
    "evol(40,100,100)\n",
    "sim=vcat(sim,[tr])\n",
    "end\n",
    "print(sim)"
   ]
  },
  {
   "cell_type": "code",
   "execution_count": 10,
   "metadata": {},
   "outputs": [],
   "source": [
    "using PyPlot\n"
   ]
  },
  {
   "cell_type": "code",
   "execution_count": 12,
   "metadata": {},
   "outputs": [
    {
     "name": "stdout",
     "output_type": "stream",
     "text": [
      "Any[[0.4 0.31 0.23 0.26 0.3 0.33 0.26 0.15 0.13 0.13 0.12], [0.4 0.31 0.23 0.26 0.3 0.33 0.26 0.15 0.13 0.13 0.12], [0.4 0.31 0.23 0.26 0.3 0.33 0.26 0.15 0.13 0.13 0.12], [0.4 0.31 0.23 0.26 0.3 0.33 0.26 0.15 0.13 0.13 0.12], [0.4 0.31 0.23 0.26 0.3 0.33 0.26 0.15 0.13 0.13 0.12]]"
     ]
    }
   ],
   "source": [
    "sim=[]\n",
    "for i in 1:5\n",
    "evol(40,100,10)\n",
    "sim=vcat(sim,[tr])\n",
    "end\n",
    "print(sim)"
   ]
  },
  {
   "cell_type": "code",
   "execution_count": 120,
   "metadata": {},
   "outputs": [
    {
     "ename": "BoundsError",
     "evalue": "BoundsError: attempt to access 10-element Array{Any,1} at index [11]",
     "output_type": "error",
     "traceback": [
      "BoundsError: attempt to access 10-element Array{Any,1} at index [11]",
      "",
      "Stacktrace:",
      " [1] getindex(::Array{Any,1}, ::Int64) at ./array.jl:729",
      " [2] top-level scope at ./In[120]:4"
     ]
    }
   ],
   "source": [
    "fig=plt.figure()\n",
    "ax=fig.add_subplot(1,1,1)\n",
    "for i in 1:100\n",
    "    ax.plot(sim[i])\n",
    "ax.set_xlim(0,50)\n",
    "plt.show()\n",
    "end"
   ]
  }
 ],
 "metadata": {
  "kernelspec": {
   "display_name": "Julia 1.1.0",
   "language": "julia",
   "name": "julia-1.1"
  },
  "language_info": {
   "file_extension": ".jl",
   "mimetype": "application/julia",
   "name": "julia",
   "version": "1.1.0"
  }
 },
 "nbformat": 4,
 "nbformat_minor": 2
}
