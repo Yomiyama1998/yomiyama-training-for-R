{
 "cells": [
  {
   "cell_type": "markdown",
   "metadata": {},
   "source": [
    "# SIR model\n",
    "\n",
    "感染症"
   ]
  },
  {
   "cell_type": "code",
   "execution_count": 1,
   "metadata": {},
   "outputs": [],
   "source": [
    "%matplotlib inline"
   ]
  },
  {
   "cell_type": "code",
   "execution_count": 3,
   "metadata": {},
   "outputs": [],
   "source": [
    "import math\n",
    "import matplotlib.pyplot as plt\n",
    "import seaborn"
   ]
  },
  {
   "cell_type": "code",
   "execution_count": 4,
   "metadata": {},
   "outputs": [
    {
     "name": "stdout",
     "output_type": "stream",
     "text": [
      "基本再生産数は 2.0 です\n"
     ]
    },
    {
     "data": {
      "text/plain": [
       "[<matplotlib.lines.Line2D at 0x7f92295c5910>]"
      ]
     },
     "execution_count": 4,
     "metadata": {},
     "output_type": "execute_result"
    },
    {
     "data": {
      "image/png": "[encoded data removed]",
      "text/plain": [
       "<Figure size 432x288 with 1 Axes>"
      ]
     },
     "metadata": {
      "needs_background": "light"
     },
     "output_type": "display_data"
    }
   ],
   "source": [
    "# SIRモデル\n",
    "beta = 0.002\n",
    "gamma = 1\n",
    "x0 = 1000\n",
    "y0 = 1\n",
    "z0 = 0\n",
    "\n",
    "r0 = beta*x0/gamma\n",
    "print(\"基本再生産数は\",r0,\"です\")\n",
    "\n",
    "dt = 0.0001\n",
    "t= 0\n",
    "x = x0\n",
    "y = y0\n",
    "z = z0\n",
    "xList = [x]\n",
    "yList = [y]\n",
    "zList = [z]\n",
    "tList = [t]\n",
    "for i in range(500000):\n",
    "    t = dt*(i+1)\n",
    "    xx = x + dt*(-beta*x*y)\n",
    "    yy = y + dt*(beta*x*y-gamma*y)\n",
    "    zz = z + dt*(gamma*y)\n",
    "    x = xx\n",
    "    y=yy\n",
    "    z=zz\n",
    "    tList.append(t)\n",
    "    xList.append(x)\n",
    "    yList.append(y)\n",
    "    zList.append(z)\n",
    "plt.plot(tList, xList, color=\"#0000ff\")\n",
    "plt.plot(tList, yList, color=\"#ff0000\")\n",
    "plt.plot(tList, zList, color=\"#00ff00\")"
   ]
  },
  {
   "cell_type": "markdown",
   "metadata": {},
   "source": [
    "# SEIR model\n",
    "感染症の流行過程を記述するモデル  \n",
    "$S$: 感受性保持者（susceptible)   \n",
    "$E$: 潜伏感染者   \n",
    "$I$: 感染性保持者（Infectious）　　  \n",
    "$R$: 回復者（Recovered） or 隔離者（Removed） \n",
    "$$\n",
    "\\begin{cases}\n",
    "\\frac{dS(t)}{dt} = m(N-S)-\\beta S(t) E(t)\\\\\n",
    "\\frac{dE(t)}{dt} = \\beta S(t) E(t) - (m+\\alpha) E(t)\\\\\n",
    "\\frac{dI(t)}{dt} = \\alpha E(t)-(m+\\gamma) I(t) \\\\\n",
    "\\frac{dR(t)}{dt} =\\gamma I(t)-mR(t) \\\\\n",
    "\\end{cases}\n",
    "$$"
   ]
  },
  {
   "cell_type": "code",
   "execution_count": 15,
   "metadata": {},
   "outputs": [
    {
     "data": {
      "text/plain": [
       "[<matplotlib.lines.Line2D at 0x7f91b160b5b0>]"
      ]
     },
     "execution_count": 15,
     "metadata": {},
     "output_type": "execute_result"
    },
    {
     "data": {
      "image/png": "[encoded data removed]",
      "text/plain": [
       "<Figure size 432x288 with 1 Axes>"
      ]
     },
     "metadata": {
      "needs_background": "light"
     },
     "output_type": "display_data"
    }
   ],
   "source": [
    "# SEIRモデル\n",
    "\n",
    "m=0.01\n",
    "b = 0.002\n",
    "a= 0.025\n",
    "g = 5.0\n",
    "N=10000\n",
    "x0 = 9998\n",
    "y0 = 1\n",
    "z0 = 1\n",
    "j0= 0\n",
    "\n",
    "dt = 0.0001\n",
    "t= 0\n",
    "x = x0\n",
    "y = y0\n",
    "z = z0\n",
    "j= j0\n",
    "xList = [x]\n",
    "yList = [y]\n",
    "zList = [z]\n",
    "jList = [j]\n",
    "tList = [t]\n",
    "for i in range(500000):\n",
    "    t = dt*(i+1)\n",
    "    xx = x + dt*(m*(N-x)-b*x*y)\n",
    "    yy = y + dt*(b*x*y-(m+a)*y)\n",
    "    zz = z + dt*(a*y-(m+g)*z)\n",
    "    jj = j +dt*(g*z-m*j)\n",
    "    x = xx\n",
    "    y=yy\n",
    "    z=zz\n",
    "    j=jj\n",
    "    tList.append(t)\n",
    "    xList.append(x)\n",
    "    yList.append(y)\n",
    "    zList.append(z)\n",
    "    jList.append(j)\n",
    "plt.plot(tList, xList, color=\"#0000ff\")\n",
    "plt.plot(tList, yList, color=\"#ff0000\")\n",
    "plt.plot(tList, zList, color=\"#00ff00\")\n",
    "plt.plot(tList, jList, color=\"#00f0f0\")"
   ]
  }
 ],
 "metadata": {
  "kernelspec": {
   "display_name": "Python 3",
   "language": "python",
   "name": "python3"
  },
  "language_info": {
   "codemirror_mode": {
    "name": "ipython",
    "version": 3
   },
   "file_extension": ".py",
   "mimetype": "text/x-python",
   "name": "python",
   "nbconvert_exporter": "python",
   "pygments_lexer": "ipython3",
   "version": "3.8.5"
  }
 },
 "nbformat": 4,
 "nbformat_minor": 4
}
