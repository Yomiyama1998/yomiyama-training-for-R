{
 "cells": [
  {
   "cell_type": "markdown",
   "metadata": {},
   "source": [
    "# SIR model\n",
    "感染症の流行過程を記述するモデル  \n",
    "$S$: 感受性保持者（susceptible）  \n",
    "$I$: 感染性保持者（Infectious）  \n",
    "$R$: 回復者（Recovered） or 隔離者（Removed）  \n",
    "$$\n",
    "\\begin{cases}\n",
    "\\frac{dS(t)}{dt} = -\\beta S(t) I(t)\\\\\n",
    "\\frac{dI(t)}{dt} = \\beta S(t) I(t) - \\gamma I(t)\\\\\n",
    "\\frac{dR(t)}{dt} = \\gamma I(t)\n",
    "\\end{cases}\n",
    "$$\n",
    "  \n",
    "$R_0$: 基本再生産数\n",
    "$$\n",
    "R_0=\\frac{\\beta S(0)}{\\gamma}\n",
    "$$\n",
    "  \n",
    "$z=\\frac{R(\\infty)}{S(\\infty)+I(\\infty)+R(\\infty)}$: 最終規模（final size）  \n",
    "  \n",
    "最終規模方程式（final size equation）  \n",
    "$R_0$と最終規模の関係\n",
    "$$\n",
    "1-z=\\exp(-zR_0)\n",
    "$$\n",
    "  \n",
    "$$\n",
    "R_0=-\\frac{\\ln(1-z)}{z}\n",
    "$$"
   ]
  },
  {
   "cell_type": "markdown",
   "metadata": {},
   "source": [
    "%matplotlib inline"
   ]
  },
  {
   "cell_type": "code",
   "execution_count": 37,
   "metadata": {},
   "outputs": [],
   "source": [
    "import math\n",
    "import matplotlib.pyplot as plt"
   ]
  },
  {
   "cell_type": "code",
   "execution_count": 100,
   "metadata": {},
   "outputs": [
    {
     "name": "stdout",
     "output_type": "stream",
     "text": [
      "基本再生産数は 2.0 です\n"
     ]
    },
    {
     "data": {
      "text/plain": [
       "[<matplotlib.lines.Line2D at 0x15270cda0>]"
      ]
     },
     "execution_count": 100,
     "metadata": {},
     "output_type": "execute_result"
    },
    {
     "data": {
      "image/png": "[encoded data removed]",
      "text/plain": [
       "<Figure size 432x288 with 1 Axes>"
      ]
     },
     "metadata": {
      "needs_background": "light"
     },
     "output_type": "display_data"
    }
   ],
   "source": [
    "# SIRモデル\n",
    "beta = 0.002\n",
    "gamma = 1\n",
    "x0 = 1000\n",
    "y0 = 1\n",
    "z0 = 0\n",
    "\n",
    "r0 = beta*x0/gamma\n",
    "print(\"基本再生産数は\",r0,\"です\")\n",
    "\n",
    "dt = 0.0001\n",
    "t= 0\n",
    "x = x0\n",
    "y = y0\n",
    "z = z0\n",
    "xList = [x]\n",
    "yList = [y]\n",
    "zList = [z]\n",
    "tList = [t]\n",
    "for i in range(500000):\n",
    "    t = dt*(i+1)\n",
    "    xx = x + dt*(-beta*x*y)\n",
    "    yy = y + dt*(beta*x*y-gamma*y)\n",
    "    zz = z + dt*(gamma*y)\n",
    "    x = xx\n",
    "    y=yy\n",
    "    z=zz\n",
    "    tList.append(t)\n",
    "    xList.append(x)\n",
    "    yList.append(y)\n",
    "    zList.append(z)\n",
    "plt.plot(tList, xList, color=\"#0000ff\")\n",
    "plt.plot(tList, yList, color=\"#ff0000\")\n",
    "plt.plot(tList, zList, color=\"#00ff00\")"
   ]
  },
  {
   "cell_type": "code",
   "execution_count": 98,
   "metadata": {},
   "outputs": [
    {
     "name": "stdout",
     "output_type": "stream",
     "text": [
      "0.7982542609488041\n",
      "最終規模から計算される基本再生産数は 2.005309799533006 です\n"
     ]
    }
   ],
   "source": [
    "# 最終規模から基本再生産数の計算\n",
    "fs = zList[-1]/(xList[-1]+yList[-1]+zList[-1])\n",
    "r0fs = -math.log(1-fs)/fs\n",
    "print(\"最終規模から計算される基本再生産数は\",r0fs,\"です\")"
   ]
  }
 ],
 "metadata": {
  "kernelspec": {
   "display_name": "Python 3",
   "language": "python",
   "name": "python3"
  },
  "language_info": {
   "codemirror_mode": {
    "name": "ipython",
    "version": 3
   },
   "file_extension": ".py",
   "mimetype": "text/x-python",
   "name": "python",
   "nbconvert_exporter": "python",
   "pygments_lexer": "ipython3",
   "version": "3.8.5"
  }
 },
 "nbformat": 4,
 "nbformat_minor": 4
}
