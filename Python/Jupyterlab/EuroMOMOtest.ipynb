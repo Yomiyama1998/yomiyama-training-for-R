{
 "cells": [
  {
   "cell_type": "code",
   "execution_count": 113,
   "metadata": {},
   "outputs": [],
   "source": [
    "import math\n",
    "import numpy as np\n",
    "import pandas as pd\n",
    "import datetime\n",
    "import statsmodels.api as sm\n",
    "import statsmodels.formula.api as smf\n",
    "import warnings\n",
    "warnings.filterwarnings('ignore')"
   ]
  },
  {
   "cell_type": "code",
   "execution_count": 16,
   "metadata": {},
   "outputs": [
    {
     "data": {
      "text/html": [
       "<div>\n",
       "<style scoped>\n",
       "    .dataframe tbody tr th:only-of-type {\n",
       "        vertical-align: middle;\n",
       "    }\n",
       "\n",
       "    .dataframe tbody tr th {\n",
       "        vertical-align: top;\n",
       "    }\n",
       "\n",
       "    .dataframe thead th {\n",
       "        text-align: right;\n",
       "    }\n",
       "</style>\n",
       "<table border=\"1\" class=\"dataframe\">\n",
       "  <thead>\n",
       "    <tr style=\"text-align: right;\">\n",
       "      <th></th>\n",
       "      <th>prefecture_id</th>\n",
       "      <th>prefectureJP</th>\n",
       "      <th>prefectureEN</th>\n",
       "      <th>week_ending_date</th>\n",
       "      <th>補正あり死亡数</th>\n",
       "      <th>補正なし死亡数</th>\n",
       "    </tr>\n",
       "  </thead>\n",
       "  <tbody>\n",
       "    <tr>\n",
       "      <th>0</th>\n",
       "      <td>1</td>\n",
       "      <td>北海道</td>\n",
       "      <td>Hokkaido</td>\n",
       "      <td>10jan2010</td>\n",
       "      <td>1082</td>\n",
       "      <td>1082</td>\n",
       "    </tr>\n",
       "    <tr>\n",
       "      <th>1</th>\n",
       "      <td>1</td>\n",
       "      <td>北海道</td>\n",
       "      <td>Hokkaido</td>\n",
       "      <td>17jan2010</td>\n",
       "      <td>1071</td>\n",
       "      <td>1071</td>\n",
       "    </tr>\n",
       "    <tr>\n",
       "      <th>2</th>\n",
       "      <td>1</td>\n",
       "      <td>北海道</td>\n",
       "      <td>Hokkaido</td>\n",
       "      <td>24jan2010</td>\n",
       "      <td>1041</td>\n",
       "      <td>1041</td>\n",
       "    </tr>\n",
       "    <tr>\n",
       "      <th>3</th>\n",
       "      <td>1</td>\n",
       "      <td>北海道</td>\n",
       "      <td>Hokkaido</td>\n",
       "      <td>31jan2010</td>\n",
       "      <td>1115</td>\n",
       "      <td>1115</td>\n",
       "    </tr>\n",
       "    <tr>\n",
       "      <th>4</th>\n",
       "      <td>1</td>\n",
       "      <td>北海道</td>\n",
       "      <td>Hokkaido</td>\n",
       "      <td>07feb2010</td>\n",
       "      <td>1089</td>\n",
       "      <td>1089</td>\n",
       "    </tr>\n",
       "  </tbody>\n",
       "</table>\n",
       "</div>"
      ],
      "text/plain": [
       "   prefecture_id prefectureJP prefectureEN week_ending_date  補正あり死亡数  補正なし死亡数\n",
       "0              1          北海道     Hokkaido        10jan2010     1082     1082\n",
       "1              1          北海道     Hokkaido        17jan2010     1071     1071\n",
       "2              1          北海道     Hokkaido        24jan2010     1041     1041\n",
       "3              1          北海道     Hokkaido        31jan2010     1115     1115\n",
       "4              1          北海道     Hokkaido        07feb2010     1089     1089"
      ]
     },
     "execution_count": 16,
     "metadata": {},
     "output_type": "execute_result"
    }
   ],
   "source": [
    "data=pd.read_csv(\"/Users/yomiyama/document/Rproject/choukashibou/data/original-data/suppl3-Aug.csv\",\n",
    "                 encoding=\"SHIFTJIS\")\n",
    "data.head()"
   ]
  },
  {
   "cell_type": "code",
   "execution_count": 74,
   "metadata": {},
   "outputs": [
    {
     "name": "stdout",
     "output_type": "stream",
     "text": [
      "       prefecture_id prefectureJP prefectureEN week_ending_date  補正あり死亡数  \\\n",
      "0                  1          北海道     Hokkaido       2010-01-10     1082   \n",
      "1                  1          北海道     Hokkaido       2010-01-17     1071   \n",
      "2                  1          北海道     Hokkaido       2010-01-24     1041   \n",
      "3                  1          北海道     Hokkaido       2010-01-31     1115   \n",
      "4                  1          北海道     Hokkaido       2010-02-07     1089   \n",
      "...              ...          ...          ...              ...      ...   \n",
      "25516             47           沖縄      Okinawa       2020-05-03      231   \n",
      "25517             47           沖縄      Okinawa       2020-05-10      247   \n",
      "25518             47           沖縄      Okinawa       2020-05-17      214   \n",
      "25519             47           沖縄      Okinawa       2020-05-24      233   \n",
      "25520             47           沖縄      Okinawa       2020-05-31      240   \n",
      "\n",
      "       補正なし死亡数  death_week  \n",
      "0         1082           1  \n",
      "1         1071           2  \n",
      "2         1041           3  \n",
      "3         1115           4  \n",
      "4         1089           5  \n",
      "...        ...         ...  \n",
      "25516      230          18  \n",
      "25517      246          19  \n",
      "25518      213          20  \n",
      "25519      232          21  \n",
      "25520      239          22  \n",
      "\n",
      "[25521 rows x 7 columns]\n"
     ]
    }
   ],
   "source": [
    "data['death_week']=pd.to_datetime(data['week_ending_date']).dt.strftime(\"%V\").astype(float).astype(int)\n",
    "data['week_ending_date']=pd.to_datetime(data['week_ending_date'])\n",
    "data.head()\n",
    "print(data)"
   ]
  },
  {
   "cell_type": "code",
   "execution_count": 61,
   "metadata": {},
   "outputs": [],
   "source": [
    "dw=data['death_week'].astype(float)"
   ]
  },
  {
   "cell_type": "code",
   "execution_count": 77,
   "metadata": {
    "collapsed": true,
    "jupyter": {
     "outputs_hidden": true
    }
   },
   "outputs": [
    {
     "data": {
      "text/html": [
       "<div>\n",
       "<style scoped>\n",
       "    .dataframe tbody tr th:only-of-type {\n",
       "        vertical-align: middle;\n",
       "    }\n",
       "\n",
       "    .dataframe tbody tr th {\n",
       "        vertical-align: top;\n",
       "    }\n",
       "\n",
       "    .dataframe thead th {\n",
       "        text-align: right;\n",
       "    }\n",
       "</style>\n",
       "<table border=\"1\" class=\"dataframe\">\n",
       "  <thead>\n",
       "    <tr style=\"text-align: right;\">\n",
       "      <th></th>\n",
       "      <th>prefecture_id</th>\n",
       "      <th>prefectureJP</th>\n",
       "      <th>prefectureEN</th>\n",
       "      <th>week_ending_date</th>\n",
       "      <th>補正あり死亡数</th>\n",
       "      <th>補正なし死亡数</th>\n",
       "      <th>death_week</th>\n",
       "      <th>sin52</th>\n",
       "      <th>cos52</th>\n",
       "      <th>sin26</th>\n",
       "      <th>cos26</th>\n",
       "    </tr>\n",
       "  </thead>\n",
       "  <tbody>\n",
       "    <tr>\n",
       "      <th>0</th>\n",
       "      <td>1</td>\n",
       "      <td>北海道</td>\n",
       "      <td>Hokkaido</td>\n",
       "      <td>2010-01-10</td>\n",
       "      <td>1082</td>\n",
       "      <td>1082</td>\n",
       "      <td>1</td>\n",
       "      <td>0.120126</td>\n",
       "      <td>0.992759</td>\n",
       "      <td>0.238513</td>\n",
       "      <td>0.971139</td>\n",
       "    </tr>\n",
       "    <tr>\n",
       "      <th>1</th>\n",
       "      <td>1</td>\n",
       "      <td>北海道</td>\n",
       "      <td>Hokkaido</td>\n",
       "      <td>2010-01-17</td>\n",
       "      <td>1071</td>\n",
       "      <td>1071</td>\n",
       "      <td>2</td>\n",
       "      <td>0.238513</td>\n",
       "      <td>0.971139</td>\n",
       "      <td>0.463258</td>\n",
       "      <td>0.886224</td>\n",
       "    </tr>\n",
       "    <tr>\n",
       "      <th>2</th>\n",
       "      <td>1</td>\n",
       "      <td>北海道</td>\n",
       "      <td>Hokkaido</td>\n",
       "      <td>2010-01-24</td>\n",
       "      <td>1041</td>\n",
       "      <td>1041</td>\n",
       "      <td>3</td>\n",
       "      <td>0.353445</td>\n",
       "      <td>0.935455</td>\n",
       "      <td>0.661263</td>\n",
       "      <td>0.750154</td>\n",
       "    </tr>\n",
       "    <tr>\n",
       "      <th>3</th>\n",
       "      <td>1</td>\n",
       "      <td>北海道</td>\n",
       "      <td>Hokkaido</td>\n",
       "      <td>2010-01-31</td>\n",
       "      <td>1115</td>\n",
       "      <td>1115</td>\n",
       "      <td>4</td>\n",
       "      <td>0.463258</td>\n",
       "      <td>0.886224</td>\n",
       "      <td>0.821100</td>\n",
       "      <td>0.570784</td>\n",
       "    </tr>\n",
       "    <tr>\n",
       "      <th>4</th>\n",
       "      <td>1</td>\n",
       "      <td>北海道</td>\n",
       "      <td>Hokkaido</td>\n",
       "      <td>2010-02-07</td>\n",
       "      <td>1089</td>\n",
       "      <td>1089</td>\n",
       "      <td>5</td>\n",
       "      <td>0.566362</td>\n",
       "      <td>0.824157</td>\n",
       "      <td>0.933542</td>\n",
       "      <td>0.358468</td>\n",
       "    </tr>\n",
       "  </tbody>\n",
       "</table>\n",
       "</div>"
      ],
      "text/plain": [
       "   prefecture_id prefectureJP prefectureEN week_ending_date  補正あり死亡数  補正なし死亡数  \\\n",
       "0              1          北海道     Hokkaido       2010-01-10     1082     1082   \n",
       "1              1          北海道     Hokkaido       2010-01-17     1071     1071   \n",
       "2              1          北海道     Hokkaido       2010-01-24     1041     1041   \n",
       "3              1          北海道     Hokkaido       2010-01-31     1115     1115   \n",
       "4              1          北海道     Hokkaido       2010-02-07     1089     1089   \n",
       "\n",
       "   death_week     sin52     cos52     sin26     cos26  \n",
       "0           1  0.120126  0.992759  0.238513  0.971139  \n",
       "1           2  0.238513  0.971139  0.463258  0.886224  \n",
       "2           3  0.353445  0.935455  0.661263  0.750154  \n",
       "3           4  0.463258  0.886224  0.821100  0.570784  \n",
       "4           5  0.566362  0.824157  0.933542  0.358468  "
      ]
     },
     "execution_count": 77,
     "metadata": {},
     "output_type": "execute_result"
    }
   ],
   "source": [
    "weeks=float(365.25/7)\n",
    "data['sin52']=np.sin(2*np.pi/weeks*data['death_week'])\n",
    "data['cos52']=np.cos(2*np.pi/weeks*data['death_week'])\n",
    "data['sin26']=np.sin(4*np.pi/weeks*data['death_week'])\n",
    "data['cos26']=np.cos(4*np.pi/weeks*data['death_week'])\n",
    "data.head()"
   ]
  },
  {
   "cell_type": "code",
   "execution_count": 82,
   "metadata": {},
   "outputs": [
    {
     "data": {
      "text/plain": [
       "<bound method NDFrame.head of      prefecture_id prefectureJP prefectureEN week_ending_date  補正あり死亡数  \\\n",
       "0                1          北海道     Hokkaido       2010-01-10     1082   \n",
       "1                1          北海道     Hokkaido       2010-01-17     1071   \n",
       "2                1          北海道     Hokkaido       2010-01-24     1041   \n",
       "3                1          北海道     Hokkaido       2010-01-31     1115   \n",
       "4                1          北海道     Hokkaido       2010-02-07     1089   \n",
       "..             ...          ...          ...              ...      ...   \n",
       "538              1          北海道     Hokkaido       2020-05-03     1263   \n",
       "539              1          北海道     Hokkaido       2020-05-10     1244   \n",
       "540              1          北海道     Hokkaido       2020-05-17     1177   \n",
       "541              1          北海道     Hokkaido       2020-05-24     1199   \n",
       "542              1          北海道     Hokkaido       2020-05-31     1147   \n",
       "\n",
       "     補正なし死亡数  death_week     sin52     cos52     sin26     cos26  \n",
       "0       1082           1  0.120126  0.992759  0.238513  0.971139  \n",
       "1       1071           2  0.238513  0.971139  0.463258  0.886224  \n",
       "2       1041           3  0.353445  0.935455  0.661263  0.750154  \n",
       "3       1115           4  0.463258  0.886224  0.821100  0.570784  \n",
       "4       1089           5  0.566362  0.824157  0.933542  0.358468  \n",
       "..       ...         ...       ...       ...       ...       ...  \n",
       "538     1252          18  0.827189 -0.561923 -0.929634 -0.368484  \n",
       "539     1224          19  0.753698 -0.657221 -0.990692 -0.136120  \n",
       "540     1158          20  0.669290 -0.743001 -0.994567  0.104101  \n",
       "541     1179          21  0.575190 -0.818020 -0.941034  0.338313  \n",
       "542     1128          22  0.472759 -0.881192 -0.833183  0.552997  \n",
       "\n",
       "[543 rows x 11 columns]>"
      ]
     },
     "execution_count": 82,
     "metadata": {},
     "output_type": "execute_result"
    }
   ],
   "source": [
    "hokkaido=data[data.prefecture_id==1]\n",
    "hokkaido.shape\n",
    "hokkaido.head"
   ]
  },
  {
   "cell_type": "code",
   "execution_count": 114,
   "metadata": {},
   "outputs": [
    {
     "name": "stdout",
     "output_type": "stream",
     "text": [
      "     prefecture_id prefectureJP prefectureEN week_ending_date  補正あり死亡数  \\\n",
      "0                1          北海道     Hokkaido       2010-01-10     1082   \n",
      "1                1          北海道     Hokkaido       2010-01-17     1071   \n",
      "2                1          北海道     Hokkaido       2010-01-24     1041   \n",
      "3                1          北海道     Hokkaido       2010-01-31     1115   \n",
      "4                1          北海道     Hokkaido       2010-02-07     1089   \n",
      "..             ...          ...          ...              ...      ...   \n",
      "520              1          北海道     Hokkaido       2019-12-29     1282   \n",
      "521              1          北海道     Hokkaido       2020-01-05     1425   \n",
      "522              1          北海道     Hokkaido       2020-01-12     1385   \n",
      "523              1          北海道     Hokkaido       2020-01-19     1336   \n",
      "524              1          北海道     Hokkaido       2020-01-26     1301   \n",
      "\n",
      "     補正なし死亡数  death_week     sin52     cos52     sin26     cos26  \n",
      "0       1082           1  0.120126  0.992759  0.238513  0.971139  \n",
      "1       1071           2  0.238513  0.971139  0.463258  0.886224  \n",
      "2       1041           3  0.353445  0.935455  0.661263  0.750154  \n",
      "3       1115           4  0.463258  0.886224  0.821100  0.570784  \n",
      "4       1089           5  0.566362  0.824157  0.933542  0.358468  \n",
      "..       ...         ...       ...       ...       ...       ...  \n",
      "520     1282          52 -0.021501  0.999769 -0.042993  0.999075  \n",
      "521     1425           1  0.120126  0.992759  0.238513  0.971139  \n",
      "522     1385           2  0.238513  0.971139  0.463258  0.886224  \n",
      "523     1336           3  0.353445  0.935455  0.661263  0.750154  \n",
      "524     1301           4  0.463258  0.886224  0.821100  0.570784  \n",
      "\n",
      "[525 rows x 11 columns]\n",
      "                 Generalized Linear Model Regression Results                  \n",
      "==============================================================================\n",
      "Dep. Variable:                補正あり死亡数   No. Observations:                  525\n",
      "Model:                            GLM   Df Residuals:                      520\n",
      "Model Family:                 Poisson   Df Model:                            4\n",
      "Link Function:               identity   Scale:                          1.0000\n",
      "Method:                          IRLS   Log-Likelihood:                -28562.\n",
      "Date:                Sun, 06 Sep 2020   Deviance:                       52456.\n",
      "Time:                        03:48:52   Pearson chi2:                 5.49e+04\n",
      "No. Iterations:                    19                                         \n",
      "Covariance Type:            nonrobust                                         \n",
      "==============================================================================\n",
      "                 coef    std err          z      P>|z|      [0.025      0.975]\n",
      "------------------------------------------------------------------------------\n",
      "death_week    43.8785      0.056    780.892      0.000      43.768      43.989\n",
      "sin52        740.8199      2.244    330.134      0.000     736.422     745.218\n",
      "cos52        189.5673      2.049     92.518      0.000     185.551     193.583\n",
      "sin26        354.8754      2.115    167.760      0.000     350.729     359.021\n",
      "cos26         97.3245      2.020     48.178      0.000      93.365     101.284\n",
      "==============================================================================\n"
     ]
    }
   ],
   "source": [
    "y=hokkaido[['補正あり死亡数']]\n",
    "y_trans=hokkaido.iloc[0:525,4]\n",
    "x=hokkaido[['death_week','sin52','cos52','sin26','cos26']]\n",
    "x_trans_1=hokkaido.iloc[0:525,]\n",
    "x_trans_2=x_trans_1[['death_week','sin52','cos52','sin26','cos26']]\n",
    "print(x_trans_1)\n",
    "link = sm.families.links.identity\n",
    "family=sm.families.Poisson(link=link)\n",
    "\n",
    "# model\n",
    "model = sm.GLM(y_trans, x_trans_2, family=family)\n",
    "results = model.fit()\n",
    "print(results.summary())"
   ]
  },
  {
   "cell_type": "code",
   "execution_count": 112,
   "metadata": {},
   "outputs": [
    {
     "name": "stdout",
     "output_type": "stream",
     "text": [
      "0       500.222782\n",
      "1       699.198202\n",
      "2       878.480560\n",
      "3      1033.643194\n",
      "4      1161.376643\n",
      "          ...     \n",
      "538     930.322285\n",
      "539     902.637906\n",
      "540     889.729255\n",
      "541     891.467326\n",
      "542     906.655399\n",
      "Length: 543, dtype: float64\n"
     ]
    }
   ],
   "source": [
    "y_pred = results.predict(x)\n",
    "print(y_pred)                         "
   ]
  },
  {
   "cell_type": "code",
   "execution_count": null,
   "metadata": {},
   "outputs": [],
   "source": [
    "y = df['tip']          # 目的変数：y\n",
    "x = df['total_bill']   # 説明変数：x（線形予測子：wx）\n",
    "link = sm.families.links.identity()  # リンク関数：恒等リンク関数\n",
    "family = sm.families.Gaussian(link)  # 確率分布：ガウス分布"
   ]
  },
  {
   "cell_type": "code",
   "execution_count": 42,
   "metadata": {},
   "outputs": [
    {
     "data": {
      "text/plain": [
       "'24'"
      ]
     },
     "execution_count": 42,
     "metadata": {},
     "output_type": "execute_result"
    }
   ],
   "source": [
    "import calendar\n",
    "import datetime\n",
    "datetime.date(2010, 6, 16).strftime(\"%V\")"
   ]
  },
  {
   "cell_type": "code",
   "execution_count": 25,
   "metadata": {},
   "outputs": [
    {
     "name": "stdout",
     "output_type": "stream",
     "text": [
      "2019-08-02\n"
     ]
    }
   ],
   "source": [
    "string_date_1 = '2019/08/02'\n",
    "dt=datetime.datetime.strptime(string_date_1, '%Y/%m/%d') # => datetime.datetime(2019, 8, 2, 0, 0)\n",
    "dt1=datetime.date(dt.year, dt.month, dt.day) # => datetime.date(2019, 8, 2)\n",
    "print(dt1)"
   ]
  },
  {
   "cell_type": "code",
   "execution_count": null,
   "metadata": {},
   "outputs": [],
   "source": [
    "weeks=365.25/7\n",
    "sin52=math.sin(2*math.pi/weeks*death_week)"
   ]
  }
 ],
 "metadata": {
  "kernelspec": {
   "display_name": "Python 3",
   "language": "python",
   "name": "python3"
  },
  "language_info": {
   "codemirror_mode": {
    "name": "ipython",
    "version": 3
   },
   "file_extension": ".py",
   "mimetype": "text/x-python",
   "name": "python",
   "nbconvert_exporter": "python",
   "pygments_lexer": "ipython3",
   "version": "3.8.5"
  }
 },
 "nbformat": 4,
 "nbformat_minor": 4
}
