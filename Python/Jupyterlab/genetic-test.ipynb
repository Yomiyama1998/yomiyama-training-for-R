{
 "cells": [
  {
   "cell_type": "code",
   "execution_count": 4,
   "metadata": {},
   "outputs": [
    {
     "name": "stdout",
     "output_type": "stream",
     "text": [
      "40\n",
      "37\n",
      "40\n",
      "45\n",
      "53\n",
      "50\n"
     ]
    }
   ],
   "source": [
    "# time\n",
    "import time\n",
    "\n",
    "# additional library\n",
    "import numpy as np\n",
    "\n",
    "def make_next_gen(derived, size=100):\n",
    "    '''\n",
    "    Calculate the number of derived alleles in the next generation.\n",
    "    \n",
    "    Arguments:\n",
    "        derived: number of derived alleles in the parent population\n",
    "        size: size of the population\n",
    "    Returns:\n",
    "        the number of derived alleles in the child population\n",
    "    '''\n",
    "    p=derived/size\n",
    "    next=0\n",
    "    for i in range(size):\n",
    "        if( np.random.rand()<p ):\n",
    "            next+=1\n",
    "    return next\n",
    "\n",
    "init = 40\n",
    "print(init)\n",
    "\n",
    "next=make_next_gen(init, 100)\n",
    "print(next)\n",
    "\n",
    "next=make_next_gen(next, 100)\n",
    "print(next)\n",
    "\n",
    "next=make_next_gen(next, 100)\n",
    "print(next)\n",
    "\n",
    "next=make_next_gen(next, 100)\n",
    "print(next)\n",
    "\n",
    "next=make_next_gen(next, 100)\n",
    "print(next)"
   ]
  },
  {
   "cell_type": "code",
   "execution_count": null,
   "metadata": {},
   "outputs": [],
   "source": []
  },
  {
   "cell_type": "code",
   "execution_count": null,
   "metadata": {},
   "outputs": [],
   "source": []
  }
 ],
 "metadata": {
  "kernelspec": {
   "display_name": "Python 3",
   "language": "python",
   "name": "python3"
  },
  "language_info": {
   "codemirror_mode": {
    "name": "ipython",
    "version": 3
   },
   "file_extension": ".py",
   "mimetype": "text/x-python",
   "name": "python",
   "nbconvert_exporter": "python",
   "pygments_lexer": "ipython3",
   "version": "3.8.5"
  }
 },
 "nbformat": 4,
 "nbformat_minor": 4
}
