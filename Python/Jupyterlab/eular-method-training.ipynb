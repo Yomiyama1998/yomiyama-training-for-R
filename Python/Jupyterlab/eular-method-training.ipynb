{
 "cells": [
  {
   "cell_type": "code",
   "execution_count": 1,
   "metadata": {},
   "outputs": [],
   "source": [
    "import numpy as np\n",
    "%matplotlib inline\n",
    "import matplotlib.pyplot as plt"
   ]
  },
  {
   "cell_type": "code",
   "execution_count": 13,
   "metadata": {},
   "outputs": [],
   "source": [
    "n = 1000 # ステップ数\n",
    "dt = 0.01 # tの刻み幅\n",
    "a = 1.0 # a の値\n",
    "\n",
    "# 初期条件\n",
    "x0 = 1.0\n",
    "# t, x の値を格納するリスト\n",
    "t_list = []\n",
    "x_list = []\n",
    "x_exact = [] # 解析解を格納するリスト\n",
    "\n",
    "# t=0 では x=x0\n",
    "t = 0.0\n",
    "x = x0\n",
    "\n",
    "# 値を格納する。\n",
    "t_list.append(t)\n",
    "x_list.append(x)\n",
    "x_exact.append(x)\n",
    "\n",
    "for i in range(n):\n",
    "    f = a * x # 右辺を予め計算する。\n",
    "    x = x + f * dt # Euler 法による時間発展\n",
    "    t = t + dt # 時刻をdtだけ進める。\n",
    "\n",
    "    # 計算した x, t の格納\n",
    "    t_list.append(t)\n",
    "    x_list.append(x)\n",
    "    x_exact.append(np.exp(a*t))"
   ]
  },
  {
   "cell_type": "code",
   "execution_count": 14,
   "metadata": {},
   "outputs": [
    {
     "data": {
      "text/plain": [
       "<matplotlib.legend.Legend at 0x7f9c608ffbe0>"
      ]
     },
     "execution_count": 14,
     "metadata": {},
     "output_type": "execute_result"
    },
    {
     "data": {
      "image/png": "[encoded data removed]",
      "text/plain": [
       "<Figure size 432x288 with 1 Axes>"
      ]
     },
     "metadata": {
      "needs_background": "light"
     },
     "output_type": "display_data"
    }
   ],
   "source": [
    "# グラフに結果を描画する。\n",
    "plt.plot(t_list, x_list, label='simulation')\n",
    "plt.plot(t_list, x_exact, label='analytical')\n",
    "plt.xlabel('t')\n",
    "plt.ylabel('x')\n",
    "plt.yscale('log')\n",
    "# 凡例を表示する。\n",
    "plt.legend(loc='best')"
   ]
  },
  {
   "cell_type": "code",
   "execution_count": null,
   "metadata": {},
   "outputs": [],
   "source": []
  }
 ],
 "metadata": {
  "kernelspec": {
   "display_name": "Python 3",
   "language": "python",
   "name": "python3"
  },
  "language_info": {
   "codemirror_mode": {
    "name": "ipython",
    "version": 3
   },
   "file_extension": ".py",
   "mimetype": "text/x-python",
   "name": "python",
   "nbconvert_exporter": "python",
   "pygments_lexer": "ipython3",
   "version": "3.8.5"
  }
 },
 "nbformat": 4,
 "nbformat_minor": 4
}
