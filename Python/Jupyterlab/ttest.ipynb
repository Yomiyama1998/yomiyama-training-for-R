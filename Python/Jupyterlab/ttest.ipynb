{
 "cells": [
  {
   "cell_type": "code",
   "execution_count": 1,
   "metadata": {},
   "outputs": [
    {
     "name": "stdout",
     "output_type": "stream",
     "text": [
      "対応なしt検定\n",
      "p値 = 0.001\n",
      "t値 = 3.42\n",
      "平均値の差   = 5.50\n",
      "差の標準誤差 = 1.61\n",
      "平均値の差の95%信頼区間CI = [2.30 , 8.70]\n"
     ]
    }
   ],
   "source": [
    "import math\n",
    "import pandas as pd\n",
    "import scipy.stats as st\n",
    "\n",
    "xa = pd.Series( [75, 87, 89, 80, 84, 81, 88, 83, 88, 88, 82, 72, 74, 93, 77, 67, 88, 84, 68, 84, 80, 78, 75, 71, 82, 74, 84, 77, 79, 76, 83, 75, 86, 76, 80, 76, 68, 72, 75, 85])\n",
    "xb = pd.Series( [64, 77, 79, 73, 89, 82, 59, 85, 80, 75, 65, 79, 65, 74, 73, 72, 69, 83, 90, 73, 88, 59, 62, 80, 64, 74, 81, 70, 69, 67, 81, 67, 72, 71, 72, 78, 78, 82, 72, 71])\n",
    "\n",
    "t, p = st.ttest_ind(xa, xb, equal_var=True)\n",
    "MU = abs(xa.mean()-xb.mean())\n",
    "SE =  MU/t\n",
    "DF = len(xa)+len(xb)-2\n",
    "CI = st.t.interval( alpha=0.95, loc=MU, scale=SE, df=DF )\n",
    "\n",
    "print('対応なしt検定')\n",
    "print(f'p値 = {p:.3f}')\n",
    "print(f't値 = {t:.2f}')\n",
    "print(f'平均値の差   = {MU:.2f}')\n",
    "print(f'差の標準誤差 = {SE:.2f}')\n",
    "print(f'平均値の差の95%信頼区間CI = [{CI[0]:.2f} , {CI[1]:.2f}]')"
   ]
  }
 ],
 "metadata": {
  "kernelspec": {
   "display_name": "Python 3",
   "language": "python",
   "name": "python3"
  },
  "language_info": {
   "codemirror_mode": {
    "name": "ipython",
    "version": 3
   },
   "file_extension": ".py",
   "mimetype": "text/x-python",
   "name": "python",
   "nbconvert_exporter": "python",
   "pygments_lexer": "ipython3",
   "version": "3.8.5"
  }
 },
 "nbformat": 4,
 "nbformat_minor": 4
}
