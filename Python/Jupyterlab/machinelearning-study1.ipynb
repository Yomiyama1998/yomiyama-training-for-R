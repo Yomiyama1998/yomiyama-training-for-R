{
 "cells": [
  {
   "cell_type": "code",
   "execution_count": 2,
   "metadata": {},
   "outputs": [],
   "source": [
    "import numpy as np\n",
    "\n",
    "#入力\n",
    "x = np.array([2,3,1])\n",
    "\n",
    "#正解\n",
    "t = np.array([20])"
   ]
  },
  {
   "cell_type": "code",
   "execution_count": 7,
   "metadata": {},
   "outputs": [],
   "source": [
    "#1-2層間のパラメーター\n",
    "w1 = np.array([[3,1,2],[-2,-3,-1]])\n",
    "b1=np.array([0,0])\n",
    "\n",
    "#2-3層間のパラメーター\n",
    "w2 = np.array([[3,2]])\n",
    "b2=np.array([0])"
   ]
  },
  {
   "cell_type": "code",
   "execution_count": 12,
   "metadata": {},
   "outputs": [
    {
     "name": "stdout",
     "output_type": "stream",
     "text": [
      "[0.95257194]\n"
     ]
    }
   ],
   "source": [
    "#中間層の計算\n",
    "u1 =w1.dot(x)+b1\n",
    "h1 =1. /(1+np.exp(-u1))\n",
    "\n",
    "#出力の計算\n",
    "u2 =w2.dot(h1)+b2\n",
    "y =1. /(1+np.exp(-u2))\n",
    "\n",
    "print(y)"
   ]
  },
  {
   "cell_type": "code",
   "execution_count": 13,
   "metadata": {},
   "outputs": [],
   "source": [
    "#dL/dy\n",
    "g_Ly = -2 / 1+(t-y)\n",
    "\n",
    "#dy/d_u2\n",
    "g_yu2=y*(1-y)\n",
    "\n",
    "#du_2/dw_2\n",
    "g_u2w2 =h1"
   ]
  },
  {
   "cell_type": "code",
   "execution_count": 15,
   "metadata": {},
   "outputs": [
    {
     "name": "stdout",
     "output_type": "stream",
     "text": [
      "[7.70166763e-01 6.40425945e-07]\n"
     ]
    }
   ],
   "source": [
    "#dL/dw_2　求めたい勾配\n",
    "g_Lw2 = g_Ly*g_yu2*g_u2w2\n",
    "\n",
    "print(g_Lw2)"
   ]
  },
  {
   "cell_type": "code",
   "execution_count": null,
   "metadata": {},
   "outputs": [],
   "source": []
  }
 ],
 "metadata": {
  "kernelspec": {
   "display_name": "Python 3",
   "language": "python",
   "name": "python3"
  },
  "language_info": {
   "codemirror_mode": {
    "name": "ipython",
    "version": 3
   },
   "file_extension": ".py",
   "mimetype": "text/x-python",
   "name": "python",
   "nbconvert_exporter": "python",
   "pygments_lexer": "ipython3",
   "version": "3.8.5"
  }
 },
 "nbformat": 4,
 "nbformat_minor": 4
}
